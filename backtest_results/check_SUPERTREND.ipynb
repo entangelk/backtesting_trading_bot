{
 "cells": [
  {
   "cell_type": "code",
   "execution_count": 1,
   "metadata": {},
   "outputs": [],
   "source": [
    "import pandas as pd\n",
    "import matplotlib.pyplot as plt\n",
    "import seaborn as sns\n",
    "import pickle\n",
    "import re\n",
    "\n",
    "from datetime import datetime\n",
    "import numpy as np\n",
    "\n",
    "import warnings\n",
    "warnings.filterwarnings('ignore')\n",
    "\n",
    "# 지수 표기법을 10진수로 변경\n",
    "pd.set_option('display.float_format', '{:.2f}'.format)\n",
    "\n",
    "import platform\n",
    "\n",
    "system = platform.system()\n",
    "\n",
    "if system == 'Windows':\n",
    "    plt.rcParams['font.family'] = 'Malgun Gothic'\n",
    "    \n",
    "else:\n",
    "    !apt-get -y install fonts-nanum\n",
    "    !fc-cache -fv\n",
    "    !rm ~/.cache/matplotlib -rf\n",
    "\n",
    "    plt.rcParams['font.family'] = 'NanumBarunGothic'\n",
    "\n",
    "# minus 기호 깨짐 방지\n",
    "plt.rcParams['axes.unicode_minus'] = False"
   ]
  },
  {
   "cell_type": "code",
   "execution_count": null,
   "metadata": {},
   "outputs": [],
   "source": [
    "df_super = pd.read_csv(\"SUPERTREND_results_20250226_205537.csv\")\n"
   ]
  }
 ],
 "metadata": {
  "kernelspec": {
   "display_name": "Python 3",
   "language": "python",
   "name": "python3"
  },
  "language_info": {
   "codemirror_mode": {
    "name": "ipython",
    "version": 3
   },
   "file_extension": ".py",
   "mimetype": "text/x-python",
   "name": "python",
   "nbconvert_exporter": "python",
   "pygments_lexer": "ipython3",
   "version": "3.11.9"
  }
 },
 "nbformat": 4,
 "nbformat_minor": 2
}
